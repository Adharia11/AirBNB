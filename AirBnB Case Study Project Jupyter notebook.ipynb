{
 "cells": [
  {
   "cell_type": "markdown",
   "metadata": {},
   "source": [
    "# AirBnB NY Locations Data Case Study\n",
    "\n",
    "In this final project, you task will be to take the data provided and find evidance to answer the following questions.\n",
    "\n",
    "1. Which hosts are the busiest and why?\n",
    "2. How many neighborhood groups are available and which shows up the most?\n",
    "3. Are private rooms the most popular in manhattan?\n",
    "4. Which hosts are the busiest and based on their reviews?\n",
    "5. Which neighorhood group has the highest average price?\n",
    "6. Which neighborhood group has the highest total price?\n",
    "7. Which top 5 hosts have the highest total price?\n",
    "8. Who currently has no (zero) availability with a review count of 100 or more?\n",
    "9. What host has the highest total of prices and where are they located?\n",
    "10. When did Danielle from Queens last receive a review?\n",
    "\n",
    "You will be given **4 hours** to complete this assignment. \n",
    "**Be Advised** I will go dark for this intire assignment time period. That said, any questions that you would like to ask about the data, or the project **MUST** be asked before the time starts. Once the time has started, I can no longer give information.\n",
    "\n",
    "This is to similate what you will face when you are out in the wild. \n",
    "\n",
    "Happy Coding!"
   ]
  },
  {
   "cell_type": "code",
   "execution_count": 1,
   "metadata": {},
   "outputs": [],
   "source": [
    "import numpy as np\n",
    "import pandas as pd\n",
    "import matplotlib.pyplot as plt"
   ]
  },
  {
   "cell_type": "code",
   "execution_count": 3,
   "metadata": {},
   "outputs": [
    {
     "data": {
      "text/html": [
       "<div>\n",
       "<style scoped>\n",
       "    .dataframe tbody tr th:only-of-type {\n",
       "        vertical-align: middle;\n",
       "    }\n",
       "\n",
       "    .dataframe tbody tr th {\n",
       "        vertical-align: top;\n",
       "    }\n",
       "\n",
       "    .dataframe thead th {\n",
       "        text-align: right;\n",
       "    }\n",
       "</style>\n",
       "<table border=\"1\" class=\"dataframe\">\n",
       "  <thead>\n",
       "    <tr style=\"text-align: right;\">\n",
       "      <th></th>\n",
       "      <th>id</th>\n",
       "      <th>name</th>\n",
       "      <th>host_id</th>\n",
       "      <th>host_name</th>\n",
       "      <th>neighbourhood_group</th>\n",
       "      <th>neighbourhood</th>\n",
       "      <th>latitude</th>\n",
       "      <th>longitude</th>\n",
       "      <th>room_type</th>\n",
       "      <th>price</th>\n",
       "      <th>minimum_nights</th>\n",
       "      <th>number_of_reviews</th>\n",
       "      <th>last_review</th>\n",
       "      <th>reviews_per_month</th>\n",
       "      <th>calculated_host_listings_count</th>\n",
       "      <th>availability_365</th>\n",
       "    </tr>\n",
       "  </thead>\n",
       "  <tbody>\n",
       "    <tr>\n",
       "      <th>0</th>\n",
       "      <td>2539</td>\n",
       "      <td>Clean &amp; quiet apt home by the park</td>\n",
       "      <td>2787</td>\n",
       "      <td>John</td>\n",
       "      <td>Brooklyn</td>\n",
       "      <td>Kensington</td>\n",
       "      <td>40.64749</td>\n",
       "      <td>-73.97237</td>\n",
       "      <td>Private room</td>\n",
       "      <td>149</td>\n",
       "      <td>1</td>\n",
       "      <td>9</td>\n",
       "      <td>2018-10-19</td>\n",
       "      <td>0.21</td>\n",
       "      <td>6</td>\n",
       "      <td>365</td>\n",
       "    </tr>\n",
       "    <tr>\n",
       "      <th>1</th>\n",
       "      <td>2595</td>\n",
       "      <td>Skylit Midtown Castle</td>\n",
       "      <td>2845</td>\n",
       "      <td>Jennifer</td>\n",
       "      <td>Manhattan</td>\n",
       "      <td>Midtown</td>\n",
       "      <td>40.75362</td>\n",
       "      <td>-73.98377</td>\n",
       "      <td>Entire home/apt</td>\n",
       "      <td>225</td>\n",
       "      <td>1</td>\n",
       "      <td>45</td>\n",
       "      <td>2019-05-21</td>\n",
       "      <td>0.38</td>\n",
       "      <td>2</td>\n",
       "      <td>355</td>\n",
       "    </tr>\n",
       "    <tr>\n",
       "      <th>2</th>\n",
       "      <td>3647</td>\n",
       "      <td>THE VILLAGE OF HARLEM....NEW YORK !</td>\n",
       "      <td>4632</td>\n",
       "      <td>Elisabeth</td>\n",
       "      <td>Manhattan</td>\n",
       "      <td>Harlem</td>\n",
       "      <td>40.80902</td>\n",
       "      <td>-73.94190</td>\n",
       "      <td>Private room</td>\n",
       "      <td>150</td>\n",
       "      <td>3</td>\n",
       "      <td>0</td>\n",
       "      <td>NaN</td>\n",
       "      <td>NaN</td>\n",
       "      <td>1</td>\n",
       "      <td>365</td>\n",
       "    </tr>\n",
       "    <tr>\n",
       "      <th>3</th>\n",
       "      <td>3831</td>\n",
       "      <td>Cozy Entire Floor of Brownstone</td>\n",
       "      <td>4869</td>\n",
       "      <td>LisaRoxanne</td>\n",
       "      <td>Brooklyn</td>\n",
       "      <td>Clinton Hill</td>\n",
       "      <td>40.68514</td>\n",
       "      <td>-73.95976</td>\n",
       "      <td>Entire home/apt</td>\n",
       "      <td>89</td>\n",
       "      <td>1</td>\n",
       "      <td>270</td>\n",
       "      <td>2019-07-05</td>\n",
       "      <td>4.64</td>\n",
       "      <td>1</td>\n",
       "      <td>194</td>\n",
       "    </tr>\n",
       "    <tr>\n",
       "      <th>4</th>\n",
       "      <td>5022</td>\n",
       "      <td>Entire Apt: Spacious Studio/Loft by central park</td>\n",
       "      <td>7192</td>\n",
       "      <td>Laura</td>\n",
       "      <td>Manhattan</td>\n",
       "      <td>East Harlem</td>\n",
       "      <td>40.79851</td>\n",
       "      <td>-73.94399</td>\n",
       "      <td>Entire home/apt</td>\n",
       "      <td>80</td>\n",
       "      <td>10</td>\n",
       "      <td>9</td>\n",
       "      <td>2018-11-19</td>\n",
       "      <td>0.10</td>\n",
       "      <td>1</td>\n",
       "      <td>0</td>\n",
       "    </tr>\n",
       "  </tbody>\n",
       "</table>\n",
       "</div>"
      ],
      "text/plain": [
       "     id                                              name  host_id  \\\n",
       "0  2539                Clean & quiet apt home by the park     2787   \n",
       "1  2595                             Skylit Midtown Castle     2845   \n",
       "2  3647               THE VILLAGE OF HARLEM....NEW YORK !     4632   \n",
       "3  3831                   Cozy Entire Floor of Brownstone     4869   \n",
       "4  5022  Entire Apt: Spacious Studio/Loft by central park     7192   \n",
       "\n",
       "     host_name neighbourhood_group neighbourhood  latitude  longitude  \\\n",
       "0         John            Brooklyn    Kensington  40.64749  -73.97237   \n",
       "1     Jennifer           Manhattan       Midtown  40.75362  -73.98377   \n",
       "2    Elisabeth           Manhattan        Harlem  40.80902  -73.94190   \n",
       "3  LisaRoxanne            Brooklyn  Clinton Hill  40.68514  -73.95976   \n",
       "4        Laura           Manhattan   East Harlem  40.79851  -73.94399   \n",
       "\n",
       "         room_type  price  minimum_nights  number_of_reviews last_review  \\\n",
       "0     Private room    149               1                  9  2018-10-19   \n",
       "1  Entire home/apt    225               1                 45  2019-05-21   \n",
       "2     Private room    150               3                  0         NaN   \n",
       "3  Entire home/apt     89               1                270  2019-07-05   \n",
       "4  Entire home/apt     80              10                  9  2018-11-19   \n",
       "\n",
       "   reviews_per_month  calculated_host_listings_count  availability_365  \n",
       "0               0.21                               6               365  \n",
       "1               0.38                               2               355  \n",
       "2                NaN                               1               365  \n",
       "3               4.64                               1               194  \n",
       "4               0.10                               1                 0  "
      ]
     },
     "execution_count": 3,
     "metadata": {},
     "output_type": "execute_result"
    }
   ],
   "source": [
    "air_bnb = pd.read_csv('AB_NYC_2019 - AB_NYC_2019.csv')\n",
    "air_bnb.head()"
   ]
  },
  {
   "cell_type": "code",
   "execution_count": 4,
   "metadata": {},
   "outputs": [
    {
     "name": "stdout",
     "output_type": "stream",
     "text": [
      "There are 5 neighborhood groups available.\n",
      "The neighborhood group that shows up the most is: Manhattan\n"
     ]
    }
   ],
   "source": [
    "# How many neighborhood groups are available and which shows up the most?\n",
    "\n",
    "\n",
    "neighborhood_counts = air_bnb['neighbourhood_group'].value_counts()\n",
    "\n",
    "num_neighborhood_groups = len(neighborhood_counts)\n",
    "\n",
    "most_common_neighborhood_group = neighborhood_counts.idxmax()\n",
    "\n",
    "print(f\"There are {num_neighborhood_groups} neighborhood groups available.\")\n",
    "print(f\"The neighborhood group that shows up the most is: {most_common_neighborhood_group}\")\n"
   ]
  },
  {
   "cell_type": "code",
   "execution_count": 5,
   "metadata": {},
   "outputs": [
    {
     "name": "stdout",
     "output_type": "stream",
     "text": [
      "Entire home/apt    13199\n",
      "Private room        7982\n",
      "Shared room          480\n",
      "Name: room_type, dtype: int64\n"
     ]
    }
   ],
   "source": [
    "# Are private rooms the most popular in manhattan?\n",
    "manhattan_data = air_bnb[air_bnb['neighbourhood_group'] == 'Manhattan']\n",
    "\n",
    "room_type_counts = manhattan_data['room_type'].value_counts()\n",
    "\n",
    "\n",
    "print(room_type_counts)\n"
   ]
  },
  {
   "cell_type": "code",
   "execution_count": 7,
   "metadata": {},
   "outputs": [
    {
     "name": "stdout",
     "output_type": "stream",
     "text": [
      "     host_id  total_reviews  reviews_per_month\n",
      "0   37312959           2273          10.706000\n",
      "1     344035           2205           4.307692\n",
      "2   26432133           2017          13.604000\n",
      "3   35524316           1971           3.665455\n",
      "4   40176101           1818           6.030000\n",
      "5    4734398           1798           7.680000\n",
      "6   16677326           1355           3.290833\n",
      "7    6885157           1346           1.676667\n",
      "8  219517861           1281           1.920580\n",
      "9   23591164           1269           5.845000\n"
     ]
    }
   ],
   "source": [
    "# Which hosts are the busiest and based on their reviews?\n",
    "\n",
    "reviews_per_host = air_bnb.groupby('host_id')['number_of_reviews'].sum().reset_index()\n",
    "\n",
    "busiest_hosts = reviews_per_host.sort_values(by='number_of_reviews', ascending=False)\n",
    "\n",
    "average_review_scores = air_bnb.groupby('host_id')['reviews_per_month'].mean().reset_index()\n",
    "\n",
    "busiest_hosts = busiest_hosts.merge(average_review_scores, on='host_id', how='left')\n",
    "\n",
    "busiest_hosts.rename(columns={'number_of_reviews': 'total_reviews', 'review_scores_rating': 'average_review_score'}, inplace=True)\n",
    "\n",
    "top_10_busiest_hosts = busiest_hosts.head(10)\n",
    "print(top_10_busiest_hosts)\n",
    "\n"
   ]
  },
  {
   "cell_type": "code",
   "execution_count": 10,
   "metadata": {},
   "outputs": [
    {
     "name": "stdout",
     "output_type": "stream",
     "text": [
      "The neighborhood group with the highest average price is: Manhattan\n"
     ]
    }
   ],
   "source": [
    "#Which neighorhood group has the highest average price?\n",
    "grouped_neighborhood = air_bnb.groupby('neighbourhood_group')\n",
    "\n",
    "average_price_by_group = grouped_neighborhood['price'].mean()\n",
    "\n",
    "highest_average_price_neighborhood = average_price_by_group.idxmax()\n",
    "\n",
    "print(f\"The neighborhood group with the highest average price is: {highest_average_price_neighborhood}\")"
   ]
  },
  {
   "cell_type": "code",
   "execution_count": 11,
   "metadata": {},
   "outputs": [
    {
     "name": "stdout",
     "output_type": "stream",
     "text": [
      "Neighborhood group with the highest total price: Manhattan\n"
     ]
    }
   ],
   "source": [
    "# Which neighbor hood group has the highest total price?\n",
    "\n",
    "neighborhood_group_prices = air_bnb.groupby('neighbourhood_group')['price'].sum()\n",
    "\n",
    "highest_total_price_neighborhood = neighborhood_group_prices.idxmax()\n",
    "\n",
    "print(\"Neighborhood group with the highest total price:\", highest_total_price_neighborhood)\n"
   ]
  },
  {
   "cell_type": "code",
   "execution_count": 12,
   "metadata": {},
   "outputs": [
    {
     "name": "stdout",
     "output_type": "stream",
     "text": [
      "         host_id  total_price\n",
      "34646  219517861     24563716\n",
      "29407  107434423     18021038\n",
      "19574   30283594     10448235\n",
      "34051  205031545      7686699\n",
      "1966      836168      6376000\n"
     ]
    }
   ],
   "source": [
    "#Which top 5 hosts have the highest total price?\n",
    "air_bnb['total_price'] = air_bnb['price'] * air_bnb['availability_365']\n",
    "\n",
    "hosts_total_price = air_bnb.groupby('host_id')['total_price'].sum().reset_index()\n",
    "\n",
    "sorted_hosts_total_price = hosts_total_price.sort_values(by='total_price', ascending=False)\n",
    "\n",
    "top_5_hosts = sorted_hosts_total_price.head(5)\n",
    "\n",
    "print(top_5_hosts)"
   ]
  },
  {
   "cell_type": "code",
   "execution_count": 17,
   "metadata": {},
   "outputs": [
    {
     "name": "stdout",
     "output_type": "stream",
     "text": [
      "                                            name  number_of_reviews\n",
      "8             Cozy Clean Guest Room - Family Apt                118\n",
      "94            Charming 1 bed GR8 WBurg LOCATION!                168\n",
      "132             NYC artists’ loft with roof deck                193\n",
      "174               Financial District Luxury Loft                114\n",
      "180        Fort Greene, Brooklyn: Center Bedroom                206\n",
      "...                                          ...                ...\n",
      "29581         The Quietest Block in Manhattan :)                103\n",
      "30461                          queens get away!!                119\n",
      "31250  entire sunshine of the spotless mind room                102\n",
      "32670                COZY Room for Female Guests                131\n",
      "35014     Cozy corner near Empire State Building                112\n",
      "\n",
      "[162 rows x 2 columns]\n"
     ]
    }
   ],
   "source": [
    "# Who currently has no (zero) availability with a review count of 100 or more?\n",
    "\n",
    "filtered_data = air_bnb[(air_bnb['availability_365'] == 0) & (air_bnb['number_of_reviews'] >= 100)]\n",
    "\n",
    "\n",
    "result = filtered_data[['name', 'number_of_reviews']]\n",
    "print(result)"
   ]
  },
  {
   "cell_type": "code",
   "execution_count": 22,
   "metadata": {},
   "outputs": [
    {
     "name": "stdout",
     "output_type": "stream",
     "text": [
      "Host with the highest total prices:\n",
      "Host Name: Sonder (NYC)\n",
      "Location: Financial District in Manhattan\n"
     ]
    }
   ],
   "source": [
    "# What host has the highest total of prices and where are they located?\n",
    "\n",
    "host_prices = air_bnb.groupby('host_id')['price'].sum().reset_index()\n",
    "highest_price_host = host_prices.loc[host_prices['price'].idxmax()]\n",
    "highest_price_host_id = highest_price_host['host_id']\n",
    "host_location = air_bnb.loc[air_bnb['host_id'] == highest_price_host_id, ['host_name', 'neighbourhood_group', 'neighbourhood']].iloc[0]\n",
    "print(\"Host with the highest total prices:\")\n",
    "print(\"Host Name:\", host_location['host_name'])\n",
    "print(\"Location:\", host_location['neighbourhood'], \"in\", host_location['neighbourhood_group'])"
   ]
  },
  {
   "cell_type": "code",
   "execution_count": 27,
   "metadata": {},
   "outputs": [
    {
     "name": "stdout",
     "output_type": "stream",
     "text": [
      "Danielle from Queens last received a review on: 2019-07-08\n"
     ]
    }
   ],
   "source": [
    "# When did Danielle from Queens last receive a review?\n",
    "\n",
    "\n",
    "danielle_queens_reviews = air_bnb[(air_bnb['host_name'] == 'Danielle') & (air_bnb['neighbourhood_group'] == 'Queens')]\n",
    "danielle_queens_reviews_sorted = danielle_queens_reviews.sort_values(by='last_review', ascending=False)\n",
    "last_review_date = danielle_queens_reviews_sorted['last_review'].iloc[0]\n",
    "\n",
    "\n",
    "print(\"Danielle from Queens last received a review on:\", last_review_date)\n"
   ]
  },
  {
   "cell_type": "markdown",
   "metadata": {},
   "source": [
    "## Further Questions\n",
    "\n",
    "1. Which host has the most listings?"
   ]
  },
  {
   "cell_type": "code",
   "execution_count": 28,
   "metadata": {},
   "outputs": [
    {
     "name": "stdout",
     "output_type": "stream",
     "text": [
      "The host with the most listings is host_id: 219517861, with 327 listings.\n"
     ]
    }
   ],
   "source": [
    "host_listings_count = air_bnb['host_id'].value_counts()\n",
    "host_with_most_listings = host_listings_count.idxmax()\n",
    "most_listings_count = host_listings_count.max()\n",
    "\n",
    "print(f\"The host with the most listings is host_id: {host_with_most_listings}, with {most_listings_count} listings.\")\n"
   ]
  },
  {
   "cell_type": "markdown",
   "metadata": {},
   "source": [
    "2. How many listings have completely open availability?"
   ]
  },
  {
   "cell_type": "code",
   "execution_count": 29,
   "metadata": {},
   "outputs": [
    {
     "name": "stdout",
     "output_type": "stream",
     "text": [
      "Number of listings with completely open availability: 1295\n"
     ]
    }
   ],
   "source": [
    "open_avail_count = len(air_bnb[air_bnb['availability_365'] == 365])\n",
    "\n",
    "print(\"Number of listings with completely open availability:\", open_avail_count)\n"
   ]
  },
  {
   "cell_type": "markdown",
   "metadata": {},
   "source": [
    "3. What room_types have the highest review numbers?"
   ]
  },
  {
   "cell_type": "code",
   "execution_count": 30,
   "metadata": {},
   "outputs": [
    {
     "name": "stdout",
     "output_type": "stream",
     "text": [
      "Average Review Score for each Room Type:\n",
      "room_type\n",
      "Private room       24.112962\n",
      "Entire home/apt    22.842418\n",
      "Shared room        16.600000\n",
      "Name: number_of_reviews, dtype: float64\n",
      "\n",
      "Total Number of Reviews for each Room Type:\n",
      "room_type\n",
      "Entire home/apt    580403\n",
      "Private room       538346\n",
      "Shared room         19256\n",
      "Name: number_of_reviews, dtype: int64\n"
     ]
    }
   ],
   "source": [
    "room_types_review_avg = air_bnb.groupby('room_type')['number_of_reviews'].mean()\n",
    "\n",
    "sorted_room_types = room_types_review_avg.sort_values(ascending=False)\n",
    "\n",
    "room_types_review_count = air_bnb.groupby('room_type')['number_of_reviews'].sum()\n",
    "\n",
    "print(\"Average Review Score for each Room Type:\")\n",
    "print(sorted_room_types)\n",
    "\n",
    "print(\"\\nTotal Number of Reviews for each Room Type:\")\n",
    "print(room_types_review_count)\n"
   ]
  },
  {
   "cell_type": "markdown",
   "metadata": {},
   "source": [
    "# Final Conclusion\n",
    "\n",
    "In this cell, write your final conclusion for each of the questions asked.\n",
    "\n",
    "Also, if you uncovered some more details that were not asked above, please discribe them here.\n",
    "\n",
    "-- Add your conclusion --"
   ]
  },
  {
   "cell_type": "code",
   "execution_count": null,
   "metadata": {},
   "outputs": [],
   "source": [
    "\n",
    "\n"
   ]
  }
 ],
 "metadata": {
  "kernelspec": {
   "display_name": "Python 3 (ipykernel)",
   "language": "python",
   "name": "python3"
  },
  "language_info": {
   "codemirror_mode": {
    "name": "ipython",
    "version": 3
   },
   "file_extension": ".py",
   "mimetype": "text/x-python",
   "name": "python",
   "nbconvert_exporter": "python",
   "pygments_lexer": "ipython3",
   "version": "3.9.13"
  }
 },
 "nbformat": 4,
 "nbformat_minor": 2
}
